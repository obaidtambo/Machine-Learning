{
  "cells": [
    {
      "cell_type": "markdown",
      "metadata": {
        "id": "2qCujMMIks-H"
      },
      "source": [
        "# Feature Engineering"
      ]
    },
    {
      "cell_type": "markdown",
      "metadata": {
        "id": "Epu2M5Scks-R"
      },
      "source": [
        "### Features\n",
        "Feature engineering is the process of selecting relevant features for the task."
      ]
    },
    {
      "cell_type": "markdown",
      "metadata": {
        "id": "Ux4ze_Ubks-S"
      },
      "source": [
        "![f1.jpg](attachment:f1.jpg)"
      ]
    },
    {
      "cell_type": "markdown",
      "metadata": {
        "id": "CSKFcYMOks-T"
      },
      "source": [
        "# Feature Selection For Machine Learning¶"
      ]
    },
    {
      "cell_type": "markdown",
      "metadata": {
        "id": "EcZdtir8ks-U"
      },
      "source": [
        "### Univariate Selection"
      ]
    },
    {
      "cell_type": "code",
      "execution_count": null,
      "metadata": {
        "scrolled": true,
        "id": "_segf2Hnks-U",
        "outputId": "28c82676-86c2-46f3-c807-2c82d271dbb2"
      },
      "outputs": [
        {
          "data": {
            "text/html": [
              "<div>\n",
              "<style scoped>\n",
              "    .dataframe tbody tr th:only-of-type {\n",
              "        vertical-align: middle;\n",
              "    }\n",
              "\n",
              "    .dataframe tbody tr th {\n",
              "        vertical-align: top;\n",
              "    }\n",
              "\n",
              "    .dataframe thead th {\n",
              "        text-align: right;\n",
              "    }\n",
              "</style>\n",
              "<table border=\"1\" class=\"dataframe\">\n",
              "  <thead>\n",
              "    <tr style=\"text-align: right;\">\n",
              "      <th></th>\n",
              "      <th>preg</th>\n",
              "      <th>plas</th>\n",
              "      <th>pres</th>\n",
              "      <th>skin</th>\n",
              "      <th>test</th>\n",
              "      <th>mass</th>\n",
              "      <th>pedi</th>\n",
              "      <th>age</th>\n",
              "      <th>class</th>\n",
              "    </tr>\n",
              "  </thead>\n",
              "  <tbody>\n",
              "    <tr>\n",
              "      <th>0</th>\n",
              "      <td>6</td>\n",
              "      <td>148</td>\n",
              "      <td>72</td>\n",
              "      <td>35</td>\n",
              "      <td>0</td>\n",
              "      <td>33.6</td>\n",
              "      <td>0.627</td>\n",
              "      <td>50</td>\n",
              "      <td>1</td>\n",
              "    </tr>\n",
              "    <tr>\n",
              "      <th>1</th>\n",
              "      <td>1</td>\n",
              "      <td>85</td>\n",
              "      <td>66</td>\n",
              "      <td>29</td>\n",
              "      <td>0</td>\n",
              "      <td>26.6</td>\n",
              "      <td>0.351</td>\n",
              "      <td>31</td>\n",
              "      <td>0</td>\n",
              "    </tr>\n",
              "    <tr>\n",
              "      <th>2</th>\n",
              "      <td>8</td>\n",
              "      <td>183</td>\n",
              "      <td>64</td>\n",
              "      <td>0</td>\n",
              "      <td>0</td>\n",
              "      <td>23.3</td>\n",
              "      <td>0.672</td>\n",
              "      <td>32</td>\n",
              "      <td>1</td>\n",
              "    </tr>\n",
              "    <tr>\n",
              "      <th>3</th>\n",
              "      <td>1</td>\n",
              "      <td>89</td>\n",
              "      <td>66</td>\n",
              "      <td>23</td>\n",
              "      <td>94</td>\n",
              "      <td>28.1</td>\n",
              "      <td>0.167</td>\n",
              "      <td>21</td>\n",
              "      <td>0</td>\n",
              "    </tr>\n",
              "    <tr>\n",
              "      <th>4</th>\n",
              "      <td>0</td>\n",
              "      <td>137</td>\n",
              "      <td>40</td>\n",
              "      <td>35</td>\n",
              "      <td>168</td>\n",
              "      <td>43.1</td>\n",
              "      <td>2.288</td>\n",
              "      <td>33</td>\n",
              "      <td>1</td>\n",
              "    </tr>\n",
              "    <tr>\n",
              "      <th>...</th>\n",
              "      <td>...</td>\n",
              "      <td>...</td>\n",
              "      <td>...</td>\n",
              "      <td>...</td>\n",
              "      <td>...</td>\n",
              "      <td>...</td>\n",
              "      <td>...</td>\n",
              "      <td>...</td>\n",
              "      <td>...</td>\n",
              "    </tr>\n",
              "    <tr>\n",
              "      <th>763</th>\n",
              "      <td>10</td>\n",
              "      <td>101</td>\n",
              "      <td>76</td>\n",
              "      <td>48</td>\n",
              "      <td>180</td>\n",
              "      <td>32.9</td>\n",
              "      <td>0.171</td>\n",
              "      <td>63</td>\n",
              "      <td>0</td>\n",
              "    </tr>\n",
              "    <tr>\n",
              "      <th>764</th>\n",
              "      <td>2</td>\n",
              "      <td>122</td>\n",
              "      <td>70</td>\n",
              "      <td>27</td>\n",
              "      <td>0</td>\n",
              "      <td>36.8</td>\n",
              "      <td>0.340</td>\n",
              "      <td>27</td>\n",
              "      <td>0</td>\n",
              "    </tr>\n",
              "    <tr>\n",
              "      <th>765</th>\n",
              "      <td>5</td>\n",
              "      <td>121</td>\n",
              "      <td>72</td>\n",
              "      <td>23</td>\n",
              "      <td>112</td>\n",
              "      <td>26.2</td>\n",
              "      <td>0.245</td>\n",
              "      <td>30</td>\n",
              "      <td>0</td>\n",
              "    </tr>\n",
              "    <tr>\n",
              "      <th>766</th>\n",
              "      <td>1</td>\n",
              "      <td>126</td>\n",
              "      <td>60</td>\n",
              "      <td>0</td>\n",
              "      <td>0</td>\n",
              "      <td>30.1</td>\n",
              "      <td>0.349</td>\n",
              "      <td>47</td>\n",
              "      <td>1</td>\n",
              "    </tr>\n",
              "    <tr>\n",
              "      <th>767</th>\n",
              "      <td>1</td>\n",
              "      <td>93</td>\n",
              "      <td>70</td>\n",
              "      <td>31</td>\n",
              "      <td>0</td>\n",
              "      <td>30.4</td>\n",
              "      <td>0.315</td>\n",
              "      <td>23</td>\n",
              "      <td>0</td>\n",
              "    </tr>\n",
              "  </tbody>\n",
              "</table>\n",
              "<p>768 rows × 9 columns</p>\n",
              "</div>"
            ],
            "text/plain": [
              "     preg  plas  pres  skin  test  mass   pedi  age  class\n",
              "0       6   148    72    35     0  33.6  0.627   50      1\n",
              "1       1    85    66    29     0  26.6  0.351   31      0\n",
              "2       8   183    64     0     0  23.3  0.672   32      1\n",
              "3       1    89    66    23    94  28.1  0.167   21      0\n",
              "4       0   137    40    35   168  43.1  2.288   33      1\n",
              "..    ...   ...   ...   ...   ...   ...    ...  ...    ...\n",
              "763    10   101    76    48   180  32.9  0.171   63      0\n",
              "764     2   122    70    27     0  36.8  0.340   27      0\n",
              "765     5   121    72    23   112  26.2  0.245   30      0\n",
              "766     1   126    60     0     0  30.1  0.349   47      1\n",
              "767     1    93    70    31     0  30.4  0.315   23      0\n",
              "\n",
              "[768 rows x 9 columns]"
            ]
          },
          "execution_count": 13,
          "metadata": {},
          "output_type": "execute_result"
        }
      ],
      "source": [
        "# Feature Selection with Univariate Statistical Tests\n",
        "from pandas import read_csv\n",
        "from numpy import set_printoptions\n",
        "from sklearn.feature_selection import SelectKBest\n",
        "from sklearn.feature_selection import f_classif\n",
        "# load data\n",
        "filename = 'pima-indians-diabetes.data.csv'\n",
        "names = ['preg', 'plas', 'pres', 'skin', 'test', 'mass', 'pedi', 'age', 'class']\n",
        "dataframe = read_csv(filename, names=names)\n",
        "dataframe"
      ]
    },
    {
      "cell_type": "code",
      "execution_count": null,
      "metadata": {
        "id": "AKh3T_IQks-Y",
        "outputId": "1fe328bd-867c-4769-a244-e71b57ea5e88"
      },
      "outputs": [
        {
          "data": {
            "text/plain": [
              "array([[  6.   , 148.   ,  72.   , ...,   0.627,  50.   ,   1.   ],\n",
              "       [  1.   ,  85.   ,  66.   , ...,   0.351,  31.   ,   0.   ],\n",
              "       [  8.   , 183.   ,  64.   , ...,   0.672,  32.   ,   1.   ],\n",
              "       ...,\n",
              "       [  5.   , 121.   ,  72.   , ...,   0.245,  30.   ,   0.   ],\n",
              "       [  1.   , 126.   ,  60.   , ...,   0.349,  47.   ,   1.   ],\n",
              "       [  1.   ,  93.   ,  70.   , ...,   0.315,  23.   ,   0.   ]])"
            ]
          },
          "execution_count": 21,
          "metadata": {},
          "output_type": "execute_result"
        }
      ],
      "source": [
        "array = dataframe.values\n",
        "array"
      ]
    },
    {
      "cell_type": "code",
      "execution_count": null,
      "metadata": {
        "id": "p-_R9nwLks-Z"
      },
      "outputs": [],
      "source": [
        "X = array[:,0:8]\n",
        "Y = array[:,8]"
      ]
    },
    {
      "cell_type": "code",
      "execution_count": null,
      "metadata": {
        "id": "F80hRU5nks-a"
      },
      "outputs": [],
      "source": [
        "# feature extraction\n",
        "test = SelectKBest(score_func=f_classif, k=4)\n",
        "fit = test.fit(X,Y)"
      ]
    },
    {
      "cell_type": "code",
      "execution_count": null,
      "metadata": {
        "id": "EC2N-NZVks-b",
        "outputId": "2040ec93-8ace-4bc4-9c6e-6b4fb27f6e7f"
      },
      "outputs": [
        {
          "data": {
            "text/plain": [
              "array([ 39.67 , 213.162,   3.257,   4.304,  13.281,  71.772,  23.871,\n",
              "        46.141])"
            ]
          },
          "execution_count": 25,
          "metadata": {},
          "output_type": "execute_result"
        }
      ],
      "source": [
        "# summarize scores\n",
        "set_printoptions(precision = 3)\n",
        "fit.scores_"
      ]
    },
    {
      "cell_type": "code",
      "execution_count": null,
      "metadata": {
        "id": "UwZNhrglks-c",
        "outputId": "25c81580-be60-4997-8e7a-76aa271b06fb"
      },
      "outputs": [
        {
          "data": {
            "text/plain": [
              "array([[  6. , 148. ,  33.6,  50. ],\n",
              "       [  1. ,  85. ,  26.6,  31. ],\n",
              "       [  8. , 183. ,  23.3,  32. ],\n",
              "       [  1. ,  89. ,  28.1,  21. ],\n",
              "       [  0. , 137. ,  43.1,  33. ]])"
            ]
          },
          "execution_count": 26,
          "metadata": {},
          "output_type": "execute_result"
        }
      ],
      "source": [
        "features = fit.transform(X)\n",
        "# summarize selected features\n",
        "features[0:5,:]"
      ]
    },
    {
      "cell_type": "markdown",
      "metadata": {
        "id": "cFDLtUfyks-d"
      },
      "source": [
        "### Recursive Feature Elimination"
      ]
    },
    {
      "cell_type": "code",
      "execution_count": null,
      "metadata": {
        "id": "xYMf9HmSks-d"
      },
      "outputs": [],
      "source": [
        "# Feature Selection with RFE\n",
        "from pandas import read_csv\n",
        "from sklearn.feature_selection import RFE\n",
        "from sklearn.linear_model import LogisticRegression\n",
        "# load data\n",
        "filename = 'pima-indians-diabetes.data.csv'\n",
        "names = ['preg', 'plas', 'pres', 'skin', 'test', 'mass', 'pedi', 'age', 'class']\n",
        "dataframe = read_csv(filename, names=names)\n",
        "array = dataframe.values\n",
        "X = array[:,0:8]\n",
        "Y = array[:,8]"
      ]
    },
    {
      "cell_type": "code",
      "execution_count": null,
      "metadata": {
        "id": "k2YMZKFxks-e",
        "outputId": "4122477c-84ff-44b0-b906-d9055e84f1a2"
      },
      "outputs": [
        {
          "name": "stdout",
          "output_type": "stream",
          "text": [
            "Num Features: 3\n",
            "Selected Features: [ True False False False False  True  True False]\n",
            "Feature Ranking: [1 2 3 5 6 1 1 4]\n"
          ]
        },
        {
          "name": "stderr",
          "output_type": "stream",
          "text": [
            "C:\\ProgramData\\Anaconda3\\lib\\site-packages\\sklearn\\utils\\validation.py:71: FutureWarning: Pass n_features_to_select=3 as keyword args. From version 0.25 passing these as positional arguments will result in an error\n",
            "  FutureWarning)\n"
          ]
        }
      ],
      "source": [
        "# feature extraction\n",
        "model = LogisticRegression(solver='liblinear')\n",
        "rfe = RFE(model, 3)\n",
        "fit = rfe.fit(X, Y)\n",
        "print(\"Num Features: %d\" % fit.n_features_)\n",
        "print(\"Selected Features: %s\" % fit.support_)\n",
        "print(\"Feature Ranking: %s\" % fit.ranking_)"
      ]
    },
    {
      "cell_type": "markdown",
      "metadata": {
        "id": "-K0shv3sks-f"
      },
      "source": [
        "### Principal Component Analysis"
      ]
    },
    {
      "cell_type": "code",
      "execution_count": null,
      "metadata": {
        "id": "8492sRsJks-f"
      },
      "outputs": [],
      "source": [
        "# Feature Extraction with PCA\n",
        "from pandas import read_csv\n",
        "from sklearn.decomposition import PCA\n",
        "# load data\n",
        "filename = 'pima-indians-diabetes.data.csv'\n",
        "names = ['preg', 'plas', 'pres', 'skin', 'test', 'mass', 'pedi', 'age', 'class']\n",
        "dataframe = read_csv(filename, names=names)\n",
        "array = dataframe.values\n",
        "X = array[:,0:8]\n",
        "Y = array[:,8]"
      ]
    },
    {
      "cell_type": "code",
      "execution_count": null,
      "metadata": {
        "id": "aesAZ8qqks-g",
        "outputId": "103ba437-3960-42e4-81de-58b584e8a857"
      },
      "outputs": [
        {
          "name": "stdout",
          "output_type": "stream",
          "text": [
            "Explained Variance: [0.889 0.062 0.026]\n",
            "[[-2.022e-03  9.781e-02  1.609e-02  6.076e-02  9.931e-01  1.401e-02\n",
            "   5.372e-04 -3.565e-03]\n",
            " [-2.265e-02 -9.722e-01 -1.419e-01  5.786e-02  9.463e-02 -4.697e-02\n",
            "  -8.168e-04 -1.402e-01]\n",
            " [-2.246e-02  1.434e-01 -9.225e-01 -3.070e-01  2.098e-02 -1.324e-01\n",
            "  -6.400e-04 -1.255e-01]]\n"
          ]
        }
      ],
      "source": [
        "# feature extraction\n",
        "pca = PCA(n_components=3)\n",
        "fit = pca.fit(X)\n",
        "# summarize components\n",
        "print(\"Explained Variance: %s\" % fit.explained_variance_ratio_)\n",
        "print(fit.components_)"
      ]
    },
    {
      "cell_type": "markdown",
      "metadata": {
        "id": "2hNHh9Cjks-h"
      },
      "source": [
        "### Feature Importance"
      ]
    },
    {
      "cell_type": "code",
      "execution_count": null,
      "metadata": {
        "id": "PhwfkV0zks-h"
      },
      "outputs": [],
      "source": [
        "# Feature Importance with Extra Trees Classifier\n",
        "from pandas import read_csv\n",
        "from sklearn.ensemble import ExtraTreesClassifier\n",
        "# load data\n",
        "filename = 'pima-indians-diabetes.data.csv'\n",
        "names = ['preg', 'plas', 'pres', 'skin', 'test', 'mass', 'pedi', 'age', 'class']\n",
        "dataframe = read_csv(filename, names=names)\n",
        "array = dataframe.values\n",
        "X = array[:,0:8]\n",
        "Y = array[:,8]"
      ]
    },
    {
      "cell_type": "code",
      "execution_count": null,
      "metadata": {
        "id": "1qxG-o-zks-i",
        "outputId": "f70d1c58-7ba4-4376-9552-537f1a57168d"
      },
      "outputs": [
        {
          "name": "stdout",
          "output_type": "stream",
          "text": [
            "[0.108 0.242 0.099 0.082 0.073 0.141 0.116 0.139]\n"
          ]
        }
      ],
      "source": [
        "# feature extraction\n",
        "model = ExtraTreesClassifier(n_estimators=100)\n",
        "model.fit(X, Y)\n",
        "print(model.feature_importances_)"
      ]
    },
    {
      "cell_type": "markdown",
      "metadata": {
        "id": "vnH62YGUks-j"
      },
      "source": [
        "### References\n",
        "\n",
        "http://scikit-learn.org/stable/modules/feature_selection.html\n",
        "\n",
        "http://scikit-learn.org/stable/modules/generated/sklearn.feature_selection.SelectKBest.html\n",
        "\n",
        "http://scikit-learn.org/stable/modules/generated/sklearn.feature_selection.RFE.html\n",
        "\n",
        "http://scikit-learn.org/stable/modules/generated/sklearn.decomposition.PCA.html\n",
        "\n",
        "http://scikit-learn.org/stable/modules/generated/sklearn.ensemble.ExtraTreesClassifier.\n",
        "\n"
      ]
    },
    {
      "cell_type": "markdown",
      "metadata": {
        "id": "kh8QacbYks-j"
      },
      "source": [
        "# Evaluate Machine Learning Algorithms"
      ]
    },
    {
      "cell_type": "markdown",
      "metadata": {
        "id": "nw7wqHXiks-k"
      },
      "source": [
        "Three distinct set of labeled data, 1. Training set, 2. Validation set and 3. Test set\n",
        "\n",
        "![tt3.png](attachment:tt3.png)"
      ]
    },
    {
      "cell_type": "markdown",
      "metadata": {
        "id": "bH4D6G06ks-k"
      },
      "source": [
        "### Split into Train and Test Sets"
      ]
    },
    {
      "cell_type": "code",
      "execution_count": null,
      "metadata": {
        "id": "AVZloRyPks-k"
      },
      "outputs": [],
      "source": [
        "# Evaluate using a train and a test set\n",
        "from pandas import read_csv\n",
        "from sklearn.model_selection import train_test_split\n",
        "from sklearn.linear_model import LogisticRegression\n",
        "filename = 'pima-indians-diabetes.data.csv'\n",
        "names = ['preg', 'plas', 'pres', 'skin', 'test', 'mass', 'pedi', 'age', 'class']\n",
        "dataframe = read_csv(filename, names=names)\n",
        "array = dataframe.values\n",
        "X = array[:,0:8]\n",
        "Y = array[:,8]"
      ]
    },
    {
      "cell_type": "code",
      "execution_count": null,
      "metadata": {
        "id": "9kiakQuYks-l",
        "outputId": "3d3d9d16-0463-41fe-df0d-69e8a55e8666"
      },
      "outputs": [
        {
          "name": "stdout",
          "output_type": "stream",
          "text": [
            "Accuracy: 75.591%\n"
          ]
        }
      ],
      "source": [
        "test_size = 0.33\n",
        "seed = 7\n",
        "X_train, X_test, Y_train, Y_test = train_test_split(X, Y, test_size=test_size, random_state=seed)\n",
        "model = LogisticRegression(solver='liblinear')\n",
        "model.fit(X_train, Y_train)\n",
        "result = model.score(X_test, Y_test)\n",
        "print(\"Accuracy: %.3f%%\" % (result*100.0))"
      ]
    },
    {
      "cell_type": "markdown",
      "metadata": {
        "id": "8VFDoFTeks-l"
      },
      "source": [
        "![training.png](attachment:training.png)"
      ]
    },
    {
      "cell_type": "markdown",
      "metadata": {
        "id": "T7FpQfyLks-m"
      },
      "source": [
        "### k-fold Cross-Validation."
      ]
    },
    {
      "cell_type": "markdown",
      "metadata": {
        "id": "6JKhERMVks-m"
      },
      "source": [
        "![cross1.JPG](attachment:cross1.JPG)"
      ]
    },
    {
      "cell_type": "code",
      "execution_count": null,
      "metadata": {
        "id": "p_Mbll-wks-m"
      },
      "outputs": [],
      "source": [
        "# Evaluate using Cross Validation\n",
        "from pandas import read_csv\n",
        "from sklearn.model_selection import KFold\n",
        "from sklearn.model_selection import cross_val_score\n",
        "from sklearn.linear_model import LogisticRegression\n",
        "filename = 'pima-indians-diabetes.data.csv'\n",
        "names = ['preg', 'plas', 'pres', 'skin', 'test', 'mass', 'pedi', 'age', 'class']\n",
        "dataframe = read_csv(filename, names=names)\n",
        "array = dataframe.values\n",
        "X = array[:,0:8]\n",
        "Y = array[:,8]"
      ]
    },
    {
      "cell_type": "code",
      "execution_count": null,
      "metadata": {
        "id": "5raQXxylks-n",
        "outputId": "ac5c597e-1775-42b8-b237-d64a2b66ebd4"
      },
      "outputs": [
        {
          "name": "stdout",
          "output_type": "stream",
          "text": [
            "Accuracy: 77.086% (5.091%)\n"
          ]
        }
      ],
      "source": [
        "kfold = KFold(n_splits=10, random_state=7, shuffle=True)\n",
        "model = LogisticRegression(solver='liblinear')\n",
        "results = cross_val_score(model, X, Y, cv=kfold)\n",
        "print(\"Accuracy: %.3f%% (%.3f%%)\" % (results.mean()*100.0, results.std()*100.0))"
      ]
    },
    {
      "cell_type": "markdown",
      "metadata": {
        "id": "0HKmMdxTks-n"
      },
      "source": [
        "# Performance Metrics\n",
        "\n",
        "Evaluation metrics for regression and classification\n",
        "\n",
        "![metrics.png](attachment:metrics.png)"
      ]
    },
    {
      "cell_type": "markdown",
      "metadata": {
        "id": "ycepELSKks-o"
      },
      "source": [
        "## a. Classification Metrics"
      ]
    },
    {
      "cell_type": "markdown",
      "metadata": {
        "id": "35Wi3KeAks-o"
      },
      "source": [
        "### Classification accuracy"
      ]
    },
    {
      "cell_type": "markdown",
      "metadata": {
        "id": "aWo_LfcTks-o"
      },
      "source": [
        "![accuracy1.png](attachment:accuracy1.png)"
      ]
    },
    {
      "cell_type": "code",
      "execution_count": null,
      "metadata": {
        "id": "ix62C9x0ks-o"
      },
      "outputs": [],
      "source": [
        "# Cross Validation Classification Accuracy\n",
        "from pandas import read_csv\n",
        "from sklearn.model_selection import KFold\n",
        "from sklearn.model_selection import cross_val_score\n",
        "from sklearn.linear_model import LogisticRegression\n",
        "filename = 'pima-indians-diabetes.data.csv'\n",
        "names = ['preg', 'plas', 'pres', 'skin', 'test', 'mass', 'pedi', 'age', 'class']\n",
        "dataframe = read_csv(filename, names=names)\n",
        "array = dataframe.values\n",
        "X = array[:,0:8]\n",
        "Y = array[:,8]"
      ]
    },
    {
      "cell_type": "code",
      "execution_count": null,
      "metadata": {
        "id": "-7WGEu4Bks-p",
        "outputId": "577b4f65-b6b0-4285-c3e5-9777ed8e1b68"
      },
      "outputs": [
        {
          "name": "stdout",
          "output_type": "stream",
          "text": [
            "Accuracy: 0.771 (0.051)\n"
          ]
        }
      ],
      "source": [
        "kfold = KFold(n_splits=10, random_state=7, shuffle=True)\n",
        "model = LogisticRegression(solver='liblinear')\n",
        "scoring = 'accuracy'\n",
        "results = cross_val_score(model, X, Y, cv=kfold, scoring=scoring)\n",
        "print(\"Accuracy: %.3f (%.3f)\" % (results.mean(), results.std()))"
      ]
    },
    {
      "cell_type": "markdown",
      "metadata": {
        "id": "PxcIo7Shks-p"
      },
      "source": [
        "### Logistic loss"
      ]
    },
    {
      "cell_type": "code",
      "execution_count": null,
      "metadata": {
        "id": "D6dGCfOrks-q"
      },
      "outputs": [],
      "source": [
        "# Cross Validation Classification LogLoss\n",
        "from pandas import read_csv\n",
        "from sklearn.model_selection import KFold\n",
        "from sklearn.model_selection import cross_val_score\n",
        "from sklearn.linear_model import LogisticRegression\n",
        "filename = 'pima-indians-diabetes.data.csv'\n",
        "names = ['preg', 'plas', 'pres', 'skin', 'test', 'mass', 'pedi', 'age', 'class']\n",
        "dataframe = read_csv(filename, names=names)\n",
        "array = dataframe.values\n",
        "X = array[:,0:8]\n",
        "Y = array[:,8]"
      ]
    },
    {
      "cell_type": "code",
      "execution_count": null,
      "metadata": {
        "id": "OYJFcmnCks-q",
        "outputId": "4473e6ca-d505-4eda-94a6-e32ca69019c0"
      },
      "outputs": [
        {
          "name": "stdout",
          "output_type": "stream",
          "text": [
            "Logloss: -0.494 (0.042)\n"
          ]
        }
      ],
      "source": [
        "kfold = KFold(n_splits=10, random_state=7, shuffle=True)\n",
        "model = LogisticRegression(solver='liblinear')\n",
        "scoring = 'neg_log_loss'\n",
        "results = cross_val_score(model, X, Y, cv=kfold, scoring=scoring)\n",
        "print(\"Logloss: %.3f (%.3f)\" % (results.mean(), results.std()))"
      ]
    },
    {
      "cell_type": "markdown",
      "metadata": {
        "id": "gyW83IK9ks-r"
      },
      "source": [
        "### Area Under ROC Curve\n",
        "\n",
        "AUC is commonly used to compare the performance of various models while precision/recall/F-measure can help determine the appropriate threshold to use for prediction purposes.\n",
        "\n",
        "![ROC_curve.png](attachment:ROC_curve.png)\n",
        "\n",
        "\n",
        "classifier with the Red dashed line is guessing the label randomly. Closer the ROC curve gets to top-left part of the chart, better the classifier is. Area under the curves (AUC) is the area below these ROC curves. Therefore, in other words, AUC is a great indicator of how well a classifier functions."
      ]
    },
    {
      "cell_type": "code",
      "execution_count": null,
      "metadata": {
        "id": "R2GVcQ43ks-r"
      },
      "outputs": [],
      "source": [
        "# Cross Validation Classification ROC AUC\n",
        "from pandas import read_csv\n",
        "from sklearn.model_selection import KFold\n",
        "from sklearn.model_selection import cross_val_score\n",
        "from sklearn.linear_model import LogisticRegression\n",
        "filename = 'pima-indians-diabetes.data.csv'\n",
        "names = ['preg', 'plas', 'pres', 'skin', 'test', 'mass', 'pedi', 'age', 'class']\n",
        "dataframe = read_csv(filename, names=names)\n",
        "array = dataframe.values\n",
        "X = array[:,0:8]\n",
        "Y = array[:,8]"
      ]
    },
    {
      "cell_type": "code",
      "execution_count": null,
      "metadata": {
        "id": "Hoc_CPUEks-r",
        "outputId": "59806640-82c8-428d-bfd9-3f30b3340676"
      },
      "outputs": [
        {
          "name": "stdout",
          "output_type": "stream",
          "text": [
            "AUC: 0.826 (0.050)\n"
          ]
        }
      ],
      "source": [
        "kfold = KFold(n_splits=10, random_state=7, shuffle=True)\n",
        "model = LogisticRegression(solver='liblinear')\n",
        "scoring = 'roc_auc'\n",
        "results = cross_val_score(model, X, Y, cv=kfold, scoring=scoring)\n",
        "print(\"AUC: %.3f (%.3f)\" % (results.mean(), results.std()))"
      ]
    },
    {
      "cell_type": "markdown",
      "metadata": {
        "id": "2faLMrU4ks-r"
      },
      "source": [
        "### Confusion Matrix\n",
        "\n",
        "![confusion1.png](attachment:confusion1.png)"
      ]
    },
    {
      "cell_type": "code",
      "execution_count": null,
      "metadata": {
        "id": "HOwYFONJks-s"
      },
      "outputs": [],
      "source": [
        "# Cross Validation Classification Confusion Matrix\n",
        "from pandas import read_csv\n",
        "from sklearn.model_selection import train_test_split\n",
        "from sklearn.linear_model import LogisticRegression\n",
        "from sklearn.metrics import confusion_matrix\n",
        "filename = 'pima-indians-diabetes.data.csv'\n",
        "names = ['preg', 'plas', 'pres', 'skin', 'test', 'mass', 'pedi', 'age', 'class']\n",
        "dataframe = read_csv(filename, names=names)\n",
        "array = dataframe.values\n",
        "X = array[:,0:8]\n",
        "Y = array[:,8]"
      ]
    },
    {
      "cell_type": "code",
      "execution_count": null,
      "metadata": {
        "id": "2HqU5rvOks-s",
        "outputId": "116cde8b-7613-44f5-e1e1-4c126250f40d"
      },
      "outputs": [
        {
          "name": "stdout",
          "output_type": "stream",
          "text": [
            "[[141  21]\n",
            " [ 41  51]]\n"
          ]
        }
      ],
      "source": [
        "test_size = 0.33\n",
        "seed = 7\n",
        "X_train, X_test, Y_train, Y_test = train_test_split(X, Y, test_size=test_size, random_state=seed)\n",
        "model = LogisticRegression(solver='liblinear')\n",
        "model.fit(X_train, Y_train)\n",
        "predicted = model.predict(X_test)\n",
        "matrix = confusion_matrix(Y_test, predicted)\n",
        "print(matrix)"
      ]
    },
    {
      "cell_type": "markdown",
      "metadata": {
        "id": "WZF7lumvks-s"
      },
      "source": [
        "### Classification Report"
      ]
    },
    {
      "cell_type": "code",
      "execution_count": null,
      "metadata": {
        "id": "DAVauouYks-t"
      },
      "outputs": [],
      "source": [
        "# Cross Validation Classification Report\n",
        "from pandas import read_csv\n",
        "from sklearn.model_selection import train_test_split\n",
        "from sklearn.linear_model import LogisticRegression\n",
        "from sklearn.metrics import classification_report\n",
        "filename = 'pima-indians-diabetes.data.csv'\n",
        "names = ['preg', 'plas', 'pres', 'skin', 'test', 'mass', 'pedi', 'age', 'class']\n",
        "dataframe = read_csv(filename, names=names)\n",
        "array = dataframe.values\n",
        "X = array[:,0:8]\n",
        "Y = array[:,8]"
      ]
    },
    {
      "cell_type": "code",
      "execution_count": null,
      "metadata": {
        "id": "pf7KyQg3ks-t",
        "outputId": "71a18053-0a4c-4f37-b594-aa6c44a31a5b"
      },
      "outputs": [
        {
          "name": "stdout",
          "output_type": "stream",
          "text": [
            "              precision    recall  f1-score   support\n",
            "\n",
            "         0.0       0.77      0.87      0.82       162\n",
            "         1.0       0.71      0.55      0.62        92\n",
            "\n",
            "    accuracy                           0.76       254\n",
            "   macro avg       0.74      0.71      0.72       254\n",
            "weighted avg       0.75      0.76      0.75       254\n",
            "\n"
          ]
        }
      ],
      "source": [
        "test_size = 0.33\n",
        "seed = 7\n",
        "X_train, X_test, Y_train, Y_test = train_test_split(X, Y, test_size=test_size, random_state=seed)\n",
        "model = LogisticRegression(solver='liblinear')\n",
        "model.fit(X_train, Y_train)\n",
        "predicted = model.predict(X_test)\n",
        "report = classification_report(Y_test, predicted)\n",
        "print(report)"
      ]
    },
    {
      "cell_type": "markdown",
      "metadata": {
        "id": "5CBjt-12ks-t"
      },
      "source": [
        "## b. Regression Metrics"
      ]
    },
    {
      "cell_type": "markdown",
      "metadata": {
        "id": "hjWavJGkks-t"
      },
      "source": [
        "### Mean Absolute Error\n",
        "\n",
        "![mae.png](attachment:mae.png)"
      ]
    },
    {
      "cell_type": "code",
      "execution_count": null,
      "metadata": {
        "id": "wQcNUi3xks-u"
      },
      "outputs": [],
      "source": [
        "# Cross Validation Regression MAE\n",
        "from pandas import read_csv\n",
        "from sklearn.model_selection import KFold\n",
        "from sklearn.model_selection import cross_val_score\n",
        "from sklearn.linear_model import LinearRegression\n",
        "filename = 'housing.csv'\n",
        "names = ['CRIM', 'ZN', 'INDUS', 'CHAS', 'NOX', 'RM', 'AGE', 'DIS', 'RAD', 'TAX', 'PTRATIO', 'B', 'LSTAT', 'MEDV']\n",
        "dataframe = read_csv(filename, delim_whitespace=True, names=names)\n",
        "array = dataframe.values\n",
        "X = array[:,0:13]\n",
        "Y = array[:,13]"
      ]
    },
    {
      "cell_type": "code",
      "execution_count": null,
      "metadata": {
        "id": "xZQHLO6Lks-u",
        "outputId": "e3b18999-e39b-417f-b20d-4b546cbaf8fc"
      },
      "outputs": [
        {
          "name": "stdout",
          "output_type": "stream",
          "text": [
            "MAE: -3.387 (0.667)\n"
          ]
        }
      ],
      "source": [
        "kfold = KFold(n_splits=10, random_state=7, shuffle=True)\n",
        "model = LinearRegression()\n",
        "scoring = 'neg_mean_absolute_error'\n",
        "results = cross_val_score(model, X, Y, cv=kfold, scoring=scoring)\n",
        "print(\"MAE: %.3f (%.3f)\" % (results.mean(), results.std()))"
      ]
    },
    {
      "cell_type": "markdown",
      "metadata": {
        "id": "DxfEc3Sbks-u"
      },
      "source": [
        "### Mean Squared Error\n",
        "\n",
        "![mse.png](attachment:mse.png)"
      ]
    },
    {
      "cell_type": "code",
      "execution_count": null,
      "metadata": {
        "id": "yOlFpR2Dks-v"
      },
      "outputs": [],
      "source": [
        "# Cross Validation Regression MSE\n",
        "from pandas import read_csv\n",
        "from sklearn.model_selection import KFold\n",
        "from sklearn.model_selection import cross_val_score\n",
        "from sklearn.linear_model import LinearRegression\n",
        "filename = 'housing.csv'\n",
        "names = ['CRIM', 'ZN', 'INDUS', 'CHAS', 'NOX', 'RM', 'AGE', 'DIS', 'RAD', 'TAX', 'PTRATIO', 'B', 'LSTAT', 'MEDV']\n",
        "dataframe = read_csv(filename, delim_whitespace=True, names=names)\n",
        "array = dataframe.values\n",
        "X = array[:,0:13]\n",
        "Y = array[:,13]"
      ]
    },
    {
      "cell_type": "code",
      "execution_count": null,
      "metadata": {
        "id": "WRwesUIPks-v",
        "outputId": "d8713d6c-74f8-465b-f440-7de40f2efe7c"
      },
      "outputs": [
        {
          "name": "stdout",
          "output_type": "stream",
          "text": [
            "MSE: -23.747 (11.143)\n"
          ]
        }
      ],
      "source": [
        "kfold = KFold(n_splits=10, random_state=7, shuffle=True)\n",
        "model = LinearRegression()\n",
        "scoring = 'neg_mean_squared_error'\n",
        "results = cross_val_score(model, X, Y, cv=kfold, scoring=scoring)\n",
        "print(\"MSE: %.3f (%.3f)\" % (results.mean(), results.std()))"
      ]
    },
    {
      "cell_type": "markdown",
      "metadata": {
        "id": "JmwIQqp_ks-w"
      },
      "source": [
        "### R^2\n",
        "\n",
        "![r2.JPG](attachment:r2.JPG)"
      ]
    },
    {
      "cell_type": "code",
      "execution_count": null,
      "metadata": {
        "id": "l-96lnMUks-w"
      },
      "outputs": [],
      "source": [
        "# Cross Validation Regression R^2\n",
        "from pandas import read_csv\n",
        "from sklearn.model_selection import KFold\n",
        "from sklearn.model_selection import cross_val_score\n",
        "from sklearn.linear_model import LinearRegression\n",
        "filename = 'housing.csv'\n",
        "names = ['CRIM', 'ZN', 'INDUS', 'CHAS', 'NOX', 'RM', 'AGE', 'DIS', 'RAD', 'TAX', 'PTRATIO', 'B', 'LSTAT', 'MEDV']\n",
        "dataframe = read_csv(filename, delim_whitespace=True, names=names)\n",
        "array = dataframe.values\n",
        "X = array[:,0:13]\n",
        "Y = array[:,13]"
      ]
    },
    {
      "cell_type": "code",
      "execution_count": null,
      "metadata": {
        "id": "P5GlFu47ks-w",
        "outputId": "f3c810cf-cf58-4146-9028-eaf62da27161"
      },
      "outputs": [
        {
          "name": "stdout",
          "output_type": "stream",
          "text": [
            "R^2: 0.718 (0.099)\n"
          ]
        }
      ],
      "source": [
        "kfold = KFold(n_splits=10, random_state=7, shuffle=True)\n",
        "model = LinearRegression()\n",
        "scoring = 'r2'\n",
        "results = cross_val_score(model, X, Y, cv=kfold, scoring=scoring)\n",
        "print(\"R^2: %.3f (%.3f)\" % (results.mean(), results.std()))"
      ]
    },
    {
      "cell_type": "markdown",
      "metadata": {
        "id": "hCQYASigks-x"
      },
      "source": [
        "### Reference\n",
        "http://scikit-learn.org/stable/modules/model_evaluation.html"
      ]
    },
    {
      "cell_type": "markdown",
      "metadata": {
        "id": "04eKMdB_ks-x"
      },
      "source": [
        "\n",
        "\n",
        "![metrics.png](attachment:metrics.png)"
      ]
    },
    {
      "cell_type": "markdown",
      "metadata": {
        "id": "x8PH-mh4ks-x"
      },
      "source": [
        "# Machine Learning (ML)\n",
        "ML is a subfield of AI and computer science. ML provides platform to learn useful things from past and improve from experience without human intervention using smart machines. In this manner, ML techniques, tools and algorithms are used for getting quality predictions and estimations. So, in this chapter you will be able to learn and understand some essential components, algorithms and tools of ML.\n",
        "- ML is a branch of AI and computer science.  \n",
        "- ML works on the use of data and algorithms to imitate the way that humans learn in order to improve machine’s accuracy.  \n",
        "- ML allows the user to feed a computer algorithm an immense amount of data and have the computer analyse and make data-driven recommendations and decisions based on only the input data.  \n",
        "- ML is based on the idea that systems can learn from data, identify patterns and make decisions with minimal human intervention.  -ML provides systems the ability to automatically learn and improve from experience without being explicitly programmed.  \n",
        "- ML depends on mathematics and statist"
      ]
    },
    {
      "cell_type": "markdown",
      "metadata": {
        "id": "JcdR892bks-y"
      },
      "source": [
        "### Brief history of Machine Learning (ML)\n",
        "- Arthur Samuel has coined the phrase “ML” in 1950’s.  \n",
        "- ML is required to discover patterns in your data and then make predictions based on often complex patterns to answer business questions, detect and analyse trends and help solve problems."
      ]
    },
    {
      "cell_type": "markdown",
      "metadata": {
        "id": "fGbQEleEks-y"
      },
      "source": [
        "### Some important algorithms used in ML are as under: \n",
        "\n",
        "Classification in ML \n",
        "- Classification in ML refers to a predictive modelling problem where a class label is predicted for a given example of input data.  \n",
        "- Classification algorithm learns from the previous/ past data.  \n",
        "- Classification is one of the primary uses of data science and ML.  A common example of classification in ML is spam filtering of emails.\n",
        "\n",
        "Regression in ML\n",
        "\n",
        "- Regression algorithm learns from the previous/ past data.  \n",
        "- Regression algorithm gives us the value as an output.  \n",
        "- ML regression methods allow us to predict a continuous outcome variable (y) based on the value of one or multiple predictor variables (X).  \n",
        "- A common example of regression algorithm is weather forecast (to find the amount of rain in an area).\n",
        "\n",
        "ML clustering\n",
        "\n",
        "- ML Clustering is also called cluster analysis.  \n",
        "- ML Clustering refers to an unsupervised ML task.  \n",
        "- ML Clustering involves automatically discovering natural grouping in data.  \n",
        "- ML Clustering is used to classify data into structures that are more easily understood and manipulated.  \n",
        "- ML clustering method is used for identifying and grouping similar data points in larger datasets without concern for the specific outcome.\n",
        "\n",
        "Clustering algorithm in ML \n",
        "\n",
        "- Clustering algorithm use data and give output in the form of clusters of data.  \n",
        "- Clustering algorithms only interpret the input data and find natural groups or clusters in feature space.  \n",
        "- A common example of clustering algorithm is deciding the prices of house/land in a particular area.\n",
        "\n",
        "Different types of Clustering \n",
        "\n",
        "- Connectivity-based clustering (Hierarchical clustering)  \n",
        "- Centroids -based clustering (partitioning methods)  \n",
        "- Distribution -based clustering  \n",
        "- Density -based clustering (Model based methods)  \n",
        "- Fuzzy clustering  \n",
        "- Constraint-ML Clustering based clustering (Supervised clustering)\n",
        " "
      ]
    },
    {
      "cell_type": "markdown",
      "metadata": {
        "id": "JIKkIlT5ks-z"
      },
      "source": [
        "### Types of ML\n",
        "\n",
        "Supervised ML \n",
        "- Supervised ML is the ML task of learning a function that maps an input to an output based on example input-output pairs.\n",
        "- Supervised ML uses past data to make predictions.  \n",
        "- Supervised ML uses classification and regression ML algorithms. \n",
        "- A common example of supervised ML is the spam filtering of e-mails.\n",
        "\n",
        "Unsupervised ML \n",
        "- Unsupervised ML refers to a type of algorithm that learns pattern from untagged data.  \n",
        "- Unsupervised ML deals with the unlabelled data.  \n",
        "- Unsupervised ML finds hidden patterns. Through mimicry, the machine is forced to build a compact internal representation of its world and then generate imaginative content.  \n",
        "- Unsupervised ML allows the model to work on its own to discover patterns and information that was previously undetected.  \n",
        "- Unsupervised ML uses clustering and association ML algorithms.  \n",
        "- A common example of unsupervised ML is Facebook.\n",
        "\n",
        "Reinforcement ML \n",
        "- Reinforcement ML is used for improving or increasing efficiency."
      ]
    },
    {
      "cell_type": "markdown",
      "metadata": {
        "id": "7rQp0WN5ks-z"
      },
      "source": [
        "### Popular ML software tool\n",
        "Scikit-learn \n",
        "- Scikit-learn is a software tool designed for ML development in Python.  \n",
        "- Scikit-learn provide a library for the Python programming language.  \n",
        "- Scikit-learn provide models and algorithms for classification, regression, clustering, dimensional reduction, model selection and pre-processing.\n",
        "- Scikit-learn help in data mining and data analysis.\n",
        "\n",
        "Other ML tools you may want to explore\n",
        "- Pytorch\n",
        "- TensorFlow\n",
        "- TensorFlow.js\n",
        "- Keras.io\n",
        "- Weka\n",
        "- KNIME\n",
        "- Google colab\n",
        "- Accord.Net\n",
        "- Apache Mahout\n",
        "- Shogun\n",
        "- Rapid Miner"
      ]
    },
    {
      "cell_type": "markdown",
      "metadata": {
        "id": "lP0qsJ53ks-0"
      },
      "source": [
        "### Some common applications of ML \n",
        "- Image recognition  \n",
        "- Speech recognition  \n",
        "- Traffic prediction  \n",
        "- Product recommendation  \n",
        "- Self-driving cars  \n",
        "- E-mail spam and malware filtering  \n",
        "- Virtual personal assistant  \n",
        "- Online fraud detection\n",
        "- Data Driven Drug Discovery"
      ]
    },
    {
      "cell_type": "code",
      "execution_count": null,
      "metadata": {
        "id": "VtnJOkNiks-1"
      },
      "outputs": [],
      "source": []
    }
  ],
  "metadata": {
    "kernelspec": {
      "display_name": "Python 3 (ipykernel)",
      "language": "python",
      "name": "python3"
    },
    "language_info": {
      "codemirror_mode": {
        "name": "ipython",
        "version": 3
      },
      "file_extension": ".py",
      "mimetype": "text/x-python",
      "name": "python",
      "nbconvert_exporter": "python",
      "pygments_lexer": "ipython3",
      "version": "3.9.7"
    },
    "colab": {
      "provenance": [],
      "collapsed_sections": [
        "2hNHh9Cjks-h",
        "vnH62YGUks-j",
        "bH4D6G06ks-k",
        "T7FpQfyLks-m",
        "35Wi3KeAks-o",
        "PxcIo7Shks-p",
        "gyW83IK9ks-r",
        "2faLMrU4ks-r",
        "WZF7lumvks-s",
        "hjWavJGkks-t",
        "DxfEc3Sbks-u",
        "JmwIQqp_ks-w",
        "hCQYASigks-x",
        "JcdR892bks-y",
        "fGbQEleEks-y",
        "JIKkIlT5ks-z",
        "7rQp0WN5ks-z",
        "lP0qsJ53ks-0"
      ]
    }
  },
  "nbformat": 4,
  "nbformat_minor": 0
}